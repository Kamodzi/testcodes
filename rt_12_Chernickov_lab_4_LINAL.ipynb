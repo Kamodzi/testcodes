{
 "cells": [
  {
   "cell_type": "markdown",
   "id": "782e4199",
   "metadata": {},
   "source": [
    "Упражнение 4.1\n"
   ]
  },
  {
   "cell_type": "code",
   "execution_count": 4,
   "id": "85065a4c",
   "metadata": {},
   "outputs": [
    {
     "name": "stdout",
     "output_type": "stream",
     "text": [
      "Point2D(4*t + 1, 4 - t)\n"
     ]
    }
   ],
   "source": [
    "import numpy as np\n",
    "import matplotlib.pyplot as plt\n",
    "from sympy import *\n",
    "\n",
    "line = Line((1, 4), (5, 3))\n",
    "print(line.arbitrary_point())"
   ]
  },
  {
   "cell_type": "markdown",
   "id": "67dc50dc",
   "metadata": {},
   "source": [
    "Упражнение 4.2\n"
   ]
  },
  {
   "cell_type": "code",
   "execution_count": 41,
   "id": "71cb2406",
   "metadata": {},
   "outputs": [
    {
     "name": "stdout",
     "output_type": "stream",
     "text": [
      "14*sqrt(17)/17\n"
     ]
    }
   ],
   "source": [
    "line = Line((1, 4), (5, 3))\n",
    "point = Point(-1, 1)\n",
    "print(line.distance(point))\n"
   ]
  },
  {
   "cell_type": "markdown",
   "id": "ea68432d",
   "metadata": {},
   "source": [
    "Упражнение 4.3"
   ]
  },
  {
   "cell_type": "code",
   "execution_count": 43,
   "id": "f5ab1b37",
   "metadata": {},
   "outputs": [
    {
     "name": "stdout",
     "output_type": "stream",
     "text": [
      "Equation: -3*x + 2*y \n",
      "Parall: -3*x + 2*y - 10 \n",
      "Perpen: -2*x - 3*y + 2\n"
     ]
    },
    {
     "data": {
      "image/png": "[encoded data removed]",
      "text/plain": [
       "<Figure size 432x288 with 1 Axes>"
      ]
     },
     "metadata": {
      "needs_background": "light"
     },
     "output_type": "display_data"
    }
   ],
   "source": [
    "line = Line((0, 0), (2, 3))\n",
    "lineParall = line.parallel_line((-2,2)) \n",
    "linePerpen = line.perpendicular_line((-2,2)) \n",
    "x = np.linspace(-10, 10, 100)\n",
    "\n",
    "plt.subplot()\n",
    "\n",
    "plt.plot(x, (3 * x) / 2)\n",
    "plt.plot(x, (3 * x + 10) / 2)\n",
    "plt.plot(x, (-2 * x + 2) / 3)\n",
    "\n",
    "plt.title('Уравнение прямых')\n",
    "plt.xlabel('x') \n",
    "plt.ylabel('y') \n",
    "\n",
    "\n",
    "plt.axis('equal')\n",
    "plt.grid(True)\n",
    "\n",
    "print('Equation:', line.equation(), '\\nParall:', lineParall.equation(), '\\nPerpen:', linePerpen.equation())\n"
   ]
  },
  {
   "cell_type": "markdown",
   "id": "a39600bd",
   "metadata": {},
   "source": [
    "Упражнение 4.4"
   ]
  },
  {
   "cell_type": "code",
   "execution_count": 47,
   "id": "00d7d98f",
   "metadata": {},
   "outputs": [
    {
     "name": "stdout",
     "output_type": "stream",
     "text": [
      "Point2D(1/4, 1/4)\n"
     ]
    }
   ],
   "source": [
    "point = Point(0.5,0)\n",
    "line = Line((-1, -1), (1, 1))\n",
    "print(line.projection(point))"
   ]
  },
  {
   "cell_type": "markdown",
   "id": "edef4cfd",
   "metadata": {},
   "source": [
    "Упражнение 4.5"
   ]
  },
  {
   "cell_type": "code",
   "execution_count": 112,
   "id": "1c94fddf",
   "metadata": {},
   "outputs": [
    {
     "name": "stdout",
     "output_type": "stream",
     "text": [
      "-3*x - 3*y + 3/5\n"
     ]
    },
    {
     "data": {
      "image/png": "[encoded data removed]",
      "text/plain": [
       "<Figure size 432x288 with 1 Axes>"
      ]
     },
     "metadata": {
      "needs_background": "light"
     },
     "output_type": "display_data"
    }
   ],
   "source": [
    "point, pointOQ, pointEQ = Point(0.6, - 0.4), Point(0, 0), Point(-3, 3)\n",
    "parallLine = Line(pointOQ, pointEQ)\n",
    "resultLine = parallLine.parallel_line(point)\n",
    "resultLine.equation()\n",
    "\n",
    "print(resultLine.equation())\n",
    "\n",
    "plt.subplot()\n",
    "\n",
    "plt.plot(x, (-3 * x + (3 / 5)) / 3, 'b')\n",
    "plt.arrow(0, -2, -3, 3, width=0.08, color='Red')\n",
    "\n",
    "plt.title('Чертёж')\n",
    "plt.xlabel('x') \n",
    "plt.ylabel('y') \n",
    "\n",
    "\n",
    "plt.axis('equal')\n",
    "plt.grid(True)"
   ]
  },
  {
   "cell_type": "markdown",
   "id": "306ca42c",
   "metadata": {},
   "source": [
    "Дополнительное задание"
   ]
  },
  {
   "cell_type": "code",
   "execution_count": 131,
   "id": "b192cdd9",
   "metadata": {},
   "outputs": [
    {
     "name": "stdout",
     "output_type": "stream",
     "text": [
      "Уравнение прямой - высоты: -4*x - 3*y + 27\n",
      "Длина высоты: 5\n",
      "Уравнение прямой - медианы: 5*x - 5*y/2 - 15\n",
      "Длина медианы: 5*sqrt(5)/2\n"
     ]
    },
    {
     "data": {
      "image/png": "[encoded data removed]",
      "text/plain": [
       "<Figure size 432x288 with 1 Axes>"
      ]
     },
     "metadata": {
      "needs_background": "light"
     },
     "output_type": "display_data"
    }
   ],
   "source": [
    "A, B, C = Point(2, -2), Point(3, 5), Point(6, 1)\n",
    "\n",
    "_from_B_to_AC = Line(A, C).perpendicular_line(B) \n",
    "\n",
    "_abs_from_B_to_AC = Line(A, C).distance(B)\n",
    "\n",
    "middle_point = Point((B.x + C.x) / 2, (B.y + C.y) / 2)\n",
    "_from_A_to_BC = Line(middle_point, A)\n",
    "\n",
    "_abs_from_A_to_BC = A.distance(middle_point)\n",
    "\n",
    "# Тут уравнение биссектрисы \n",
    "\n",
    "print('Уравнение прямой - высоты:', _from_B_to_AC.equation())\n",
    "print('Длина высоты:', _abs_from_B_to_AC)\n",
    "print('Уравнение прямой - медианы:', _from_A_to_BC.equation())\n",
    "print('Длина медианы:', _abs_from_A_to_BC)\n",
    "\n",
    "plt.subplot()\n",
    "plt.plot([A[0], B[0]], [A[1], B[1]], marker = 'o')\n",
    "plt.plot([A[0], C[0]], [A[1], C[1]], marker = 'o')\n",
    "plt.plot([B[0], C[0]], [B[1], C[1]], marker = 'o')\n",
    "\n",
    "pr = Line(A, B).projection(C)\n",
    "plt.plot([pr[0], C[0]], [pr[1], C[1]], marker = 'o')\n",
    "plt.plot([middle_point[0], A[0]], [middle_point[1], A[1]], marker = 'o')\n",
    "\n",
    "\n",
    "plt.title('Чертёж')\n",
    "plt.xlabel('x') \n",
    "plt.ylabel('y') \n",
    "\n",
    "\n",
    "plt.axis('equal')\n",
    "plt.grid(True)"
   ]
  },
  {
   "cell_type": "code",
   "execution_count": null,
   "id": "1f283c81",
   "metadata": {},
   "outputs": [],
   "source": []
  }
 ],
 "metadata": {
  "kernelspec": {
   "display_name": "Python 3 (ipykernel)",
   "language": "python",
   "name": "python3"
  },
  "language_info": {
   "codemirror_mode": {
    "name": "ipython",
    "version": 3
   },
   "file_extension": ".py",
   "mimetype": "text/x-python",
   "name": "python",
   "nbconvert_exporter": "python",
   "pygments_lexer": "ipython3",
   "version": "3.9.12"
  }
 },
 "nbformat": 4,
 "nbformat_minor": 5
}
