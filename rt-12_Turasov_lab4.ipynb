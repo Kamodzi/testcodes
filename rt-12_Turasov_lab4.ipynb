{
 "cells": [
  {
   "cell_type": "code",
   "execution_count": 2,
   "id": "e6b3c1d7",
   "metadata": {},
   "outputs": [],
   "source": [
    "import numpy as np\n",
    "import matplotlib.pyplot as plt\n",
    "from sympy import *\n"
   ]
  },
  {
   "cell_type": "code",
   "execution_count": null,
   "id": "db831afb",
   "metadata": {},
   "outputs": [
    {
     "data": {
      "image/svg+xml": "<svg xmlns=\"http://www.w3.org/2000/svg\"\n            xmlns:xlink=\"http://www.w3.org/1999/xlink\"\n            width=\"100.0\" height=\"100.0\" viewBox=\"0.600000000000000 2.60000000000000 4.80000000000000 1.80000000000000\"\n            preserveAspectRatio=\"xMinYMin meet\">\n            <defs>\n                <marker id=\"markerCircle\" markerWidth=\"8\" markerHeight=\"8\"\n                    refx=\"5\" refy=\"5\" markerUnits=\"strokeWidth\">\n                    <circle cx=\"5\" cy=\"5\" r=\"1.5\" style=\"stroke: none; fill:#000000;\"/>\n                </marker>\n                <marker id=\"markerArrow\" markerWidth=\"13\" markerHeight=\"13\" refx=\"2\" refy=\"4\"\n                       orient=\"auto\" markerUnits=\"strokeWidth\">\n                    <path d=\"M2,2 L2,6 L6,4\" style=\"fill: #000000;\" />\n                </marker>\n                <marker id=\"markerReverseArrow\" markerWidth=\"13\" markerHeight=\"13\" refx=\"6\" refy=\"4\"\n                       orient=\"auto\" markerUnits=\"strokeWidth\">\n                    <path d=\"M6,2 L6,6 L2,4\" style=\"fill: #000000;\" />\n                </marker>\n            </defs><g transform=\"matrix(1,0,0,-1,0,7.00000000000000)\"><path fill-rule=\"evenodd\" fill=\"#66cc99\" stroke=\"#555555\" stroke-width=\"0.0960000000000000\" opacity=\"0.6\" d=\"M 1.00000000000000,4.00000000000000 L 5.00000000000000,3.00000000000000\" marker-start=\"url(#markerReverseArrow)\" marker-end=\"url(#markerArrow)\"/></g></svg>",
      "text/latex": [
       "$\\displaystyle \\operatorname{Line2D}\\left(\\operatorname{Point2D}\\left(1, 4\\right), \\operatorname{Point2D}\\left(5, 3\\right)\\right)$"
      ],
      "text/plain": [
       "Line2D(Point2D(1, 4), Point2D(5, 3))"
      ]
     },
     "execution_count": 4,
     "metadata": {},
     "output_type": "execute_result"
    }
   ],
   "source": [
    "Line((1, 4), (5, 3)) "
   ]
  },
  {
   "cell_type": "code",
   "execution_count": null,
   "id": "1fa9da84",
   "metadata": {},
   "outputs": [],
   "source": [
    "p1, p2 = Point(1, 4), Point(5, 3)"
   ]
  },
  {
   "cell_type": "code",
   "execution_count": null,
   "id": "0988216c",
   "metadata": {},
   "outputs": [
    {
     "data": {
      "text/latex": [
       "$\\displaystyle - 3 x + 4 y + 3$"
      ],
      "text/plain": [
       "-3*x + 4*y + 3"
      ]
     },
     "execution_count": 9,
     "metadata": {},
     "output_type": "execute_result"
    }
   ],
   "source": [
    "p1, p2 = Point(1,1), Point(0,-1) \n",
    "L = Line(p1) \n",
    "L.equation()\n"
   ]
  },
  {
   "cell_type": "markdown",
   "id": "8d123b7d",
   "metadata": {},
   "source": [
    "## УПР 1"
   ]
  },
  {
   "cell_type": "code",
   "execution_count": null,
   "id": "c7d8ef30",
   "metadata": {},
   "outputs": [
    {
     "data": {
      "text/latex": [
       "$\\displaystyle \\operatorname{Point2D}\\left(4 t + 1, 3 t\\right)$"
      ],
      "text/plain": [
       "Point2D(4*t + 1, 3*t)"
      ]
     },
     "execution_count": 10,
     "metadata": {},
     "output_type": "execute_result"
    }
   ],
   "source": [
    "L.arbitrary_point(p2)"
   ]
  },
  {
   "cell_type": "code",
   "execution_count": null,
   "id": "2e4e04ed",
   "metadata": {},
   "outputs": [
    {
     "name": "stdout",
     "output_type": "stream",
     "text": [
      "-2*x + y - 7\n"
     ]
    }
   ],
   "source": [
    "A = Point(-2,3) \n",
    "к = 2 \n",
    "L = Line(A, slope = к) \n",
    "print(L.equation())\n"
   ]
  },
  {
   "cell_type": "code",
   "execution_count": null,
   "id": "dc2f9ce9",
   "metadata": {},
   "outputs": [],
   "source": [
    "x = np.linspace(-5, 5, 100) #создаёт массив с нижней границей -5 \n",
    "#и верхней границей 5, в созданном массиве 100 элементов\n",
    "n = [5, -4] # нормаль прямой\n",
    "ortN = n/np.linalg.norm(n)#создаем орт - вектор единичной длины\n"
   ]
  },
  {
   "cell_type": "code",
   "execution_count": null,
   "id": "09d333a7",
   "metadata": {},
   "outputs": [
    {
     "data": {
      "image/png": "[encoded data removed]",
      "text/plain": [
       "<Figure size 432x288 with 1 Axes>"
      ]
     },
     "metadata": {
      "needs_background": "light"
     },
     "output_type": "display_data"
    }
   ],
   "source": [
    "plt.subplot()\n",
    "plt.plot(x, (5*x - 8)/4) #построение графика функции y=(5x-8)/4\n",
    "#построение векторов\n",
    "plt.arrow(0, -2, n[0], n[1], width=0.05, color='Red')\n",
    "plt.arrow(0, 0, ortN[0], ortN[1], width=0.05, color='Green')\n",
    "\n",
    "plt.title('Уравнение прямой 5x-4y-8=0') #название графика\n",
    "plt.xlabel('x') #название горизонтальной оси\n",
    "plt.ylabel('y') #название вертикальной оси\n",
    "plt.grid () #накладываем сетку\n",
    "plt.axis('equal')\n",
    "plt.show()\n"
   ]
  },
  {
   "cell_type": "code",
   "execution_count": null,
   "id": "e1b17968",
   "metadata": {},
   "outputs": [
    {
     "name": "stdout",
     "output_type": "stream",
     "text": [
      "-2*x - 2*y + 2/5\n"
     ]
    }
   ],
   "source": [
    "t1, t2, t3 = Point(0.6, -0.4), Point(0, 0), Point(-2, 2) \n",
    "H1 = Line(t2, t3) \n",
    "H2=H1.parallel_line(t1)\n",
    "H2=H2.equation()\n",
    "print(H2)\n"
   ]
  },
  {
   "cell_type": "code",
   "execution_count": null,
   "id": "44d56114",
   "metadata": {},
   "outputs": [
    {
     "data": {
      "image/png": "[encoded data removed]",
      "text/plain": [
       "<Figure size 432x288 with 1 Axes>"
      ]
     },
     "metadata": {
      "needs_background": "light"
     },
     "output_type": "display_data"
    }
   ],
   "source": [
    "x = np.arange(-5, 5, 0.1)\n",
    "n = [-3, 3]\n",
    "M0 = [0.6, -0.4]\n",
    "y = x-1\n",
    "\n",
    "plt.plot(M0[0], M0[1],'or')\n",
    "plt.arrow(M0[0], M0[1], n[0], n[1], width=0.08, color='Red')\n",
    "plt.plot(x, y)\n",
    "\n",
    "plt.text(M0[0] + 0.5, M0[1] - 0.5,'$M_0(x_0,y_0)$')\n",
    "plt.title('Уравнение прямой y=x-1')\n",
    "plt.xlabel('x')\n",
    "plt.ylabel('y')\n",
    "plt.axis('equal')\n",
    "plt.grid()\n",
    "plt.show()\n"
   ]
  },
  {
   "cell_type": "code",
   "execution_count": null,
   "id": "60feb5a9",
   "metadata": {},
   "outputs": [],
   "source": [
    "1) Расстояние от точки до прямой – метод .distance() "
   ]
  },
  {
   "cell_type": "markdown",
   "id": "6eb70343",
   "metadata": {},
   "source": [
    "### УПР 4.2"
   ]
  },
  {
   "cell_type": "code",
   "execution_count": null,
   "id": "b6ba35cf",
   "metadata": {},
   "outputs": [
    {
     "data": {
      "text/latex": [
       "$\\displaystyle \\frac{14 \\sqrt{17}}{17}$"
      ],
      "text/plain": [
       "14*sqrt(17)/17"
      ]
     },
     "execution_count": 25,
     "metadata": {},
     "output_type": "execute_result"
    }
   ],
   "source": [
    "\n",
    "p1, p2 = Point(1,4), Point(5,3) \n",
    "L = Line(p1, p2) \n",
    "L.equation()\n",
    "\n",
    "L.distance([-1,1])\n",
    " \n"
   ]
  },
  {
   "cell_type": "code",
   "execution_count": null,
   "id": "0dc72f2d",
   "metadata": {},
   "outputs": [
    {
     "data": {
      "text/plain": [
       "[3*pi/4, pi/4]"
      ]
     },
     "execution_count": 27,
     "metadata": {},
     "output_type": "execute_result"
    }
   ],
   "source": [
    "e = Line((0, 0), (1, 0)) \n",
    "w = Line((1, 1), (0, 0)) \n",
    "s1=w.angle_between(e)\n",
    "s2=w.smallest_angle_between(e)\n",
    "[s1, s2]\n"
   ]
  },
  {
   "cell_type": "code",
   "execution_count": null,
   "id": "7647c505",
   "metadata": {},
   "outputs": [
    {
     "data": {
      "image/svg+xml": "<svg xmlns=\"http://www.w3.org/2000/svg\"\n            xmlns:xlink=\"http://www.w3.org/1999/xlink\"\n            width=\"100.0\" height=\"100.0\" viewBox=\"-1.40000000000000 -0.400000000000000 4.80000000000000 1.80000000000000\"\n            preserveAspectRatio=\"xMinYMin meet\">\n            <defs>\n                <marker id=\"markerCircle\" markerWidth=\"8\" markerHeight=\"8\"\n                    refx=\"5\" refy=\"5\" markerUnits=\"strokeWidth\">\n                    <circle cx=\"5\" cy=\"5\" r=\"1.5\" style=\"stroke: none; fill:#000000;\"/>\n                </marker>\n                <marker id=\"markerArrow\" markerWidth=\"13\" markerHeight=\"13\" refx=\"2\" refy=\"4\"\n                       orient=\"auto\" markerUnits=\"strokeWidth\">\n                    <path d=\"M2,2 L2,6 L6,4\" style=\"fill: #000000;\" />\n                </marker>\n                <marker id=\"markerReverseArrow\" markerWidth=\"13\" markerHeight=\"13\" refx=\"6\" refy=\"4\"\n                       orient=\"auto\" markerUnits=\"strokeWidth\">\n                    <path d=\"M6,2 L6,6 L2,4\" style=\"fill: #000000;\" />\n                </marker>\n            </defs><g transform=\"matrix(1,0,0,-1,0,1.00000000000000)\"><path fill-rule=\"evenodd\" fill=\"#66cc99\" stroke=\"#555555\" stroke-width=\"0.0960000000000000\" opacity=\"0.6\" d=\"M -1.00000000000000,1.00000000000000 L 3.00000000000000,0\" marker-start=\"url(#markerReverseArrow)\" marker-end=\"url(#markerArrow)\"/></g></svg>",
      "text/latex": [
       "$\\displaystyle \\operatorname{Line2D}\\left(\\operatorname{Point2D}\\left(-1, 1\\right), \\operatorname{Point2D}\\left(3, 0\\right)\\right)$"
      ],
      "text/plain": [
       "Line2D(Point2D(-1, 1), Point2D(3, 0))"
      ]
     },
     "execution_count": 29,
     "metadata": {},
     "output_type": "execute_result"
    }
   ],
   "source": [
    "L.parallel_line([-1,1]) "
   ]
  },
  {
   "cell_type": "code",
   "execution_count": null,
   "id": "dcecc92d",
   "metadata": {},
   "outputs": [
    {
     "data": {
      "image/svg+xml": "<svg xmlns=\"http://www.w3.org/2000/svg\"\n            xmlns:xlink=\"http://www.w3.org/1999/xlink\"\n            width=\"100.0\" height=\"100.0\" viewBox=\"-1.40000000000000 0.600000000000000 1.80000000000000 4.80000000000000\"\n            preserveAspectRatio=\"xMinYMin meet\">\n            <defs>\n                <marker id=\"markerCircle\" markerWidth=\"8\" markerHeight=\"8\"\n                    refx=\"5\" refy=\"5\" markerUnits=\"strokeWidth\">\n                    <circle cx=\"5\" cy=\"5\" r=\"1.5\" style=\"stroke: none; fill:#000000;\"/>\n                </marker>\n                <marker id=\"markerArrow\" markerWidth=\"13\" markerHeight=\"13\" refx=\"2\" refy=\"4\"\n                       orient=\"auto\" markerUnits=\"strokeWidth\">\n                    <path d=\"M2,2 L2,6 L6,4\" style=\"fill: #000000;\" />\n                </marker>\n                <marker id=\"markerReverseArrow\" markerWidth=\"13\" markerHeight=\"13\" refx=\"6\" refy=\"4\"\n                       orient=\"auto\" markerUnits=\"strokeWidth\">\n                    <path d=\"M6,2 L6,6 L2,4\" style=\"fill: #000000;\" />\n                </marker>\n            </defs><g transform=\"matrix(1,0,0,-1,0,6.00000000000000)\"><path fill-rule=\"evenodd\" fill=\"#66cc99\" stroke=\"#555555\" stroke-width=\"0.0960000000000000\" opacity=\"0.6\" d=\"M -1.00000000000000,1.00000000000000 L 0,5.00000000000000\" marker-start=\"url(#markerReverseArrow)\" marker-end=\"url(#markerArrow)\"/></g></svg>",
      "text/latex": [
       "$\\displaystyle \\operatorname{Line2D}\\left(\\operatorname{Point2D}\\left(-1, 1\\right), \\operatorname{Point2D}\\left(0, 5\\right)\\right)$"
      ],
      "text/plain": [
       "Line2D(Point2D(-1, 1), Point2D(0, 5))"
      ]
     },
     "execution_count": 30,
     "metadata": {},
     "output_type": "execute_result"
    }
   ],
   "source": [
    "L.perpendicular_line([-1,1]) "
   ]
  },
  {
   "cell_type": "markdown",
   "id": "79f66976",
   "metadata": {},
   "source": [
    "## 4.3"
   ]
  },
  {
   "cell_type": "code",
   "execution_count": null,
   "id": "01e55584",
   "metadata": {},
   "outputs": [
    {
     "data": {
      "image/png": "[encoded data removed]",
      "text/plain": [
       "<Figure size 432x288 with 1 Axes>"
      ]
     },
     "metadata": {
      "needs_background": "light"
     },
     "output_type": "display_data"
    }
   ],
   "source": [
    "x = np.linspace(-10, 5, 20) \n",
    "\n",
    "\n",
    "\n",
    "plt.subplot()\n",
    "\n",
    "\n",
    "plt.plot(x, 3*x/2)\n",
    "plt.plot(x, 3*x/2+10)\n",
    "plt.plot(x, (2-2*x)/3)\n",
    "\n",
    "\n",
    "plt.axhline(y=0, color='k') \n",
    "plt.axvline(x=0, color='k')\n",
    "plt.xlabel('x') #название горизонтальной оси\n",
    "plt.ylabel('y') #название вертикальной оси\n",
    "plt.grid () #накладываем сетку\n",
    "plt.axis('equal') # выравнивание\n",
    "plt.show()\n"
   ]
  },
  {
   "cell_type": "markdown",
   "id": "41c68646",
   "metadata": {},
   "source": [
    "# Расчеты"
   ]
  },
  {
   "cell_type": "code",
   "execution_count": null,
   "id": "c99ff2a9",
   "metadata": {},
   "outputs": [
    {
     "data": {
      "text/latex": [
       "$\\displaystyle - 3 x + 2 y$"
      ],
      "text/plain": [
       "-3*x + 2*y"
      ]
     },
     "execution_count": 10,
     "metadata": {},
     "output_type": "execute_result"
    }
   ],
   "source": [
    "p1, p2 = Point(0,0), Point(2,3) \n",
    "L = Line(p1, p2) \n",
    "L.equation()\n"
   ]
  },
  {
   "cell_type": "code",
   "execution_count": null,
   "id": "34758d50",
   "metadata": {},
   "outputs": [
    {
     "data": {
      "text/latex": [
       "$\\displaystyle - 3 x + 2 y - 10$"
      ],
      "text/plain": [
       "-3*x + 2*y - 10"
      ]
     },
     "execution_count": 23,
     "metadata": {},
     "output_type": "execute_result"
    }
   ],
   "source": [
    "p1, p2 = Point(-2,2), Point(0,5) \n",
    "L = Line(p1, p2) \n",
    "L.equation()\n"
   ]
  },
  {
   "cell_type": "code",
   "execution_count": null,
   "id": "802a7990",
   "metadata": {},
   "outputs": [
    {
     "data": {
      "text/latex": [
       "$\\displaystyle - 2 x - 3 y + 2$"
      ],
      "text/plain": [
       "-2*x - 3*y + 2"
      ]
     },
     "execution_count": 33,
     "metadata": {},
     "output_type": "execute_result"
    }
   ],
   "source": [
    "p1, p2 = Point(-2,2), Point(-5,4) \n",
    "L = Line(p1, p2) \n",
    "L.equation()"
   ]
  },
  {
   "cell_type": "code",
   "execution_count": null,
   "id": "39286118",
   "metadata": {},
   "outputs": [
    {
     "data": {
      "image/svg+xml": "<svg xmlns=\"http://www.w3.org/2000/svg\"\n            xmlns:xlink=\"http://www.w3.org/1999/xlink\"\n            width=\"100.0\" height=\"100.0\" viewBox=\"-2.30000000000000 1.70000000000000 2.60000000000000 3.60000000000000\"\n            preserveAspectRatio=\"xMinYMin meet\">\n            <defs>\n                <marker id=\"markerCircle\" markerWidth=\"8\" markerHeight=\"8\"\n                    refx=\"5\" refy=\"5\" markerUnits=\"strokeWidth\">\n                    <circle cx=\"5\" cy=\"5\" r=\"1.5\" style=\"stroke: none; fill:#000000;\"/>\n                </marker>\n                <marker id=\"markerArrow\" markerWidth=\"13\" markerHeight=\"13\" refx=\"2\" refy=\"4\"\n                       orient=\"auto\" markerUnits=\"strokeWidth\">\n                    <path d=\"M2,2 L2,6 L6,4\" style=\"fill: #000000;\" />\n                </marker>\n                <marker id=\"markerReverseArrow\" markerWidth=\"13\" markerHeight=\"13\" refx=\"6\" refy=\"4\"\n                       orient=\"auto\" markerUnits=\"strokeWidth\">\n                    <path d=\"M6,2 L6,6 L2,4\" style=\"fill: #000000;\" />\n                </marker>\n            </defs><g transform=\"matrix(1,0,0,-1,0,7.00000000000000)\"><path fill-rule=\"evenodd\" fill=\"#66cc99\" stroke=\"#555555\" stroke-width=\"0.0720000000000000\" opacity=\"0.6\" d=\"M -2.00000000000000,2.00000000000000 L 0,5.00000000000000\" marker-start=\"url(#markerReverseArrow)\" marker-end=\"url(#markerArrow)\"/></g></svg>",
      "text/latex": [
       "$\\displaystyle \\operatorname{Line2D}\\left(\\operatorname{Point2D}\\left(-2, 2\\right), \\operatorname{Point2D}\\left(0, 5\\right)\\right)$"
      ],
      "text/plain": [
       "Line2D(Point2D(-2, 2), Point2D(0, 5))"
      ]
     },
     "execution_count": 13,
     "metadata": {},
     "output_type": "execute_result"
    }
   ],
   "source": [
    "p3 = Point(-2,2)\n",
    "L.parallel_line(p3)\n",
    "\n"
   ]
  },
  {
   "cell_type": "code",
   "execution_count": null,
   "id": "d32690a6",
   "metadata": {},
   "outputs": [
    {
     "data": {
      "image/svg+xml": "<svg xmlns=\"http://www.w3.org/2000/svg\"\n            xmlns:xlink=\"http://www.w3.org/1999/xlink\"\n            width=\"100.0\" height=\"100.0\" viewBox=\"-5.30000000000000 1.70000000000000 3.60000000000000 2.60000000000000\"\n            preserveAspectRatio=\"xMinYMin meet\">\n            <defs>\n                <marker id=\"markerCircle\" markerWidth=\"8\" markerHeight=\"8\"\n                    refx=\"5\" refy=\"5\" markerUnits=\"strokeWidth\">\n                    <circle cx=\"5\" cy=\"5\" r=\"1.5\" style=\"stroke: none; fill:#000000;\"/>\n                </marker>\n                <marker id=\"markerArrow\" markerWidth=\"13\" markerHeight=\"13\" refx=\"2\" refy=\"4\"\n                       orient=\"auto\" markerUnits=\"strokeWidth\">\n                    <path d=\"M2,2 L2,6 L6,4\" style=\"fill: #000000;\" />\n                </marker>\n                <marker id=\"markerReverseArrow\" markerWidth=\"13\" markerHeight=\"13\" refx=\"6\" refy=\"4\"\n                       orient=\"auto\" markerUnits=\"strokeWidth\">\n                    <path d=\"M6,2 L6,6 L2,4\" style=\"fill: #000000;\" />\n                </marker>\n            </defs><g transform=\"matrix(1,0,0,-1,0,6.00000000000000)\"><path fill-rule=\"evenodd\" fill=\"#66cc99\" stroke=\"#555555\" stroke-width=\"0.0720000000000000\" opacity=\"0.6\" d=\"M -2.00000000000000,2.00000000000000 L -5.00000000000000,4.00000000000000\" marker-start=\"url(#markerReverseArrow)\" marker-end=\"url(#markerArrow)\"/></g></svg>",
      "text/latex": [
       "$\\displaystyle \\operatorname{Line2D}\\left(\\operatorname{Point2D}\\left(-2, 2\\right), \\operatorname{Point2D}\\left(-5, 4\\right)\\right)$"
      ],
      "text/plain": [
       "Line2D(Point2D(-2, 2), Point2D(-5, 4))"
      ]
     },
     "execution_count": 32,
     "metadata": {},
     "output_type": "execute_result"
    }
   ],
   "source": [
    "p3 = Point(-2,2)\n",
    "L.perpendicular_line(p3) \n"
   ]
  },
  {
   "cell_type": "markdown",
   "id": "e0fd5f7f",
   "metadata": {},
   "source": [
    "# 4.4"
   ]
  },
  {
   "cell_type": "code",
   "execution_count": null,
   "id": "d0621707",
   "metadata": {},
   "outputs": [
    {
     "data": {
      "image/png": "[encoded data removed]",
      "text/plain": [
       "<Figure size 432x288 with 1 Axes>"
      ]
     },
     "metadata": {
      "needs_background": "light"
     },
     "output_type": "display_data"
    }
   ],
   "source": [
    "x = np.linspace(-1, 1, 100) \n",
    "\n",
    "\n",
    "\n",
    "plt.subplot()\n",
    "\n",
    "\n",
    "plt.plot(x, x )\n",
    "\n",
    "plt.plot(x, -x+1/2 )\n",
    "\n",
    "\n",
    "\n",
    "plt.axhline(y=0, color='k') \n",
    "plt.axvline(x=0, color='k')\n",
    "plt.xlabel('x') #название горизонтальной оси\n",
    "plt.ylabel('y') #название вертикальной оси\n",
    "plt.grid () #накладываем сетку\n",
    "plt.axis('equal') # выравнивание\n",
    "plt.show()"
   ]
  },
  {
   "cell_type": "code",
   "execution_count": null,
   "id": "bae12471",
   "metadata": {},
   "outputs": [],
   "source": []
  },
  {
   "cell_type": "code",
   "execution_count": null,
   "id": "6218c23b",
   "metadata": {},
   "outputs": [
    {
     "name": "stdout",
     "output_type": "stream",
     "text": [
      "Point3D(1/4, 1/4, 0)\n"
     ]
    }
   ],
   "source": [
    "p = Point3D(0.5, 0 , 0)\n",
    "  \n",
    "# using Plane()\n",
    "p1 = Plane(Point3D(2, 2, 0), normal_vector =(1, -1, 0))\n",
    "  \n",
    "# using projection()\n",
    "projectionPoint = p1.projection(p)\n",
    "  \n",
    "print(projectionPoint)\n"
   ]
  },
  {
   "cell_type": "code",
   "execution_count": null,
   "id": "fe005272",
   "metadata": {},
   "outputs": [
    {
     "data": {
      "text/latex": [
       "$\\displaystyle - \\frac{x}{4} - \\frac{y}{4} + \\frac{1}{8}$"
      ],
      "text/plain": [
       "-x/4 - y/4 + 1/8"
      ]
     },
     "execution_count": 84,
     "metadata": {},
     "output_type": "execute_result"
    }
   ],
   "source": [
    "p1, p2 = Point(0.5,0), Point(0.25,0.25) \n",
    "L = Line(p1, p2) \n",
    "L.equation()"
   ]
  },
  {
   "cell_type": "markdown",
   "id": "1c730e8e",
   "metadata": {},
   "source": [
    "######"
   ]
  },
  {
   "cell_type": "markdown",
   "id": "966e1c3c",
   "metadata": {},
   "source": [
    "## УПР 4.5"
   ]
  },
  {
   "cell_type": "code",
   "execution_count": null,
   "id": "036ef13a",
   "metadata": {},
   "outputs": [
    {
     "data": {
      "image/png": "[encoded data removed]",
      "text/plain": [
       "<Figure size 432x288 with 1 Axes>"
      ]
     },
     "metadata": {
      "needs_background": "light"
     },
     "output_type": "display_data"
    }
   ],
   "source": [
    "t1, t2, t3 = Point(0.6, -0.4), Point(0, 0), Point(-2, 2) \n",
    "\n",
    "x = np.arange(-5,5, 0.1)\n",
    "q = [-3, 3]\n",
    "M0 = [0.6, -0.4]\n",
    "#y = x-1\n",
    "\n",
    "plt.arrow(0, -2, q[0], q[1], width=0.05, color='Red')\n",
    "\n",
    "plt.arrow(M0[0], M0[1], q[0], q[1], width=0.05, color='green')\n",
    "#plt.plot(x, -y)\n",
    "plt.axhline(y=0, color='k') \n",
    "plt.axvline(x=0, color='k')\n",
    "\n",
    "\n",
    "plt.xlabel('x')\n",
    "plt.ylabel('y')\n",
    "plt.axis('equal')\n",
    "plt.grid()\n",
    "plt.show()\n"
   ]
  },
  {
   "cell_type": "markdown",
   "id": "fb1665a0",
   "metadata": {},
   "source": [
    "#####"
   ]
  },
  {
   "cell_type": "code",
   "execution_count": null,
   "id": "c7efc7fd",
   "metadata": {},
   "outputs": [
    {
     "name": "stdout",
     "output_type": "stream",
     "text": [
      "Скалярное произведение векторов (n,q) = 0\n",
      "Расстояние от точки N до прямой = 5\n"
     ]
    },
    {
     "data": {
      "image/png": "[encoded data removed]",
      "text/plain": [
       "<Figure size 432x288 with 1 Axes>"
      ]
     },
     "metadata": {
      "needs_background": "light"
     },
     "output_type": "display_data"
    }
   ],
   "source": [
    "t = np.arange(-3, 3, 0.1)\n",
    "M0 = [-1, 3]\n",
    "N = [-4, -1]\n",
    "q = [4, -3] # направляющий вектор из условия\n",
    "n = [3, 4] # нормальный вектор подбираем\n",
    "sp = np.dot(n, q) # проверка ортогональности\n",
    "print('Скалярное произведение векторов (n,q) =', sp)\n",
    "\n",
    "x = M0[0] + q[0] * t # массив значений х\n",
    "y = M0[1] + q[1] * t # массив значений у\n",
    "\n",
    "M1 = Point(3, 0) # возьмем еще одну точку на прямой (при t=1)\n",
    "s = Line(M1, M0) \n",
    "D=s.distance(N) \n",
    "print('Расстояние от точки N до прямой =',D)\n",
    "\n",
    "plt.plot(x, y)\n",
    "plt.plot(M0[0], M0[1],'or',N[0], N[1],'oy',M1[0], M1[1],'ok')\n",
    "plt.text(M0[0] + 0.8, M0[1] - 0.5,'$M_0(-1,3)$')\n",
    "plt.text(M1[0] + 0.8, M1[1] - 0.5,'$M_1(3,0)$')\n",
    "plt.text(N[0] + 0.8, N[1] - 0.5,'$N(-4,-1)$')\n",
    "# из точки N строим векторы n и q\n",
    "plt.arrow(0, 10, n[0], n[1], width=0.08,color='g')\n",
    "plt.arrow(0, 10, q[0], q[1], width=0.08, color='g')\n",
    "plt.title(f'Уравнение прямой x={M0[0]}+{q[0]}t, y={M0[1]}-{-q[1]}t')\n",
    "plt.xlabel('x')\n",
    "plt.ylabel('y')\n",
    "plt.grid()\n",
    "plt.axis('square')\n",
    "plt.show()\n"
   ]
  },
  {
   "cell_type": "code",
   "execution_count": 100,
   "id": "bf499e74",
   "metadata": {},
   "outputs": [
    {
     "name": "stdout",
     "output_type": "stream",
     "text": [
      "Угол =  -89.99999999999993\n",
      "Угол =  -45.00000008021409\n",
      "Угол =  44.99999991978598\n"
     ]
    },
    {
     "data": {
      "image/png": "[encoded data removed]",
      "text/plain": [
       "<Figure size 720x720 with 1 Axes>"
      ]
     },
     "metadata": {
      "needs_background": "light"
     },
     "output_type": "display_data"
    }
   ],
   "source": [
    "import numpy as np\n",
    "import matplotlib.pyplot as plt\n",
    "import math\t\n",
    "from sympy import *\n",
    "\n",
    "\n",
    "OA = np.array([2,-2])\n",
    "OB = np.array([3, 5])\n",
    "OC = np.array([6, 1])\n",
    "F= np.array([4.5, 3]) # cердина ВС\n",
    "D = np.array([2.5, 1.5])\n",
    "\n",
    "\n",
    "CD = D - OC\n",
    "AF = F - OA\n",
    "AB = OB - OA\n",
    "BC = OC - OB\n",
    "AC = OC - OA\n",
    "fig = plt.figure()\n",
    "fig.set_figheight(10)\n",
    "fig.set_figwidth(10)\n",
    "x = np.linspace(-1, 1, 100) \n",
    "plt.axis('equal')\n",
    "plt.grid()\n",
    "plt.axhline(y=0, color='k') \n",
    "plt.axvline(x=0, color='k')\n",
    "plt.ylim(-1, 13)\n",
    "plt.xlim(-1, 9)\n",
    "plt.arrow(2, 8, CD[0], CD[1], width=0.15, length_includes_head=True, facecolor='Purple')\n",
    "plt.arrow(-2, 5, AF[0], AF[1], width=0.15, length_includes_head=True, facecolor='Green')\n",
    "plt.arrow(-2, 5, AB[0], AB[1], width=0.15, length_includes_head=True, facecolor='Yellow')\n",
    "plt.arrow(-1, 12, BC[0], BC[1], width=0.15, length_includes_head=True, facecolor='Red')\n",
    "plt.arrow(-2, 5, AC[0], AC[1], width=0.15, length_includes_head=True, facecolor='Blue')\n",
    "\n",
    "def slope(x1, y1, x2, y2): # Line slope given two points:\n",
    "    return (y2-y1)/(x2-x1)\n",
    "\n",
    "def angle(s1, s2): \n",
    "    return math.degrees(math.atan((s2-s1)/(1+(s2*s1))))\n",
    "\n",
    "lineA1 = ((3, 5), (6, 1))\n",
    "lineB1 = ((6, 1.00000000000001), (2, -2))\n",
    "\n",
    "slope1 = slope(lineA1[0][0], lineA1[0][1], lineA1[1][0], lineA1[1][1])\n",
    "slope2 = slope(lineB1[0][0], lineB1[0][1], lineB1[1][0], lineB1[1][1])\n",
    "ang = angle(slope1, slope2)\n",
    "print('Угол = ', ang) #доказательсов того что ВС это высота так как треугольник прямоугольный\n",
    "\n",
    "lineA = ((3, 5), (6, 1))\n",
    "lineB = ((2, -2), (3.00000001, 5))\n",
    "\n",
    "slope1 = slope(lineA[0][0], lineA[0][1], lineA[1][0], lineA[1][1])\n",
    "slope2 = slope(lineB[0][0], lineB[0][1], lineB[1][0], lineB[1][1])\n",
    "\n",
    "\n",
    "ang1 = angle(slope1, slope2)\n",
    "print('Угол = ', ang1)\n",
    "\n",
    "print('Угол = ', 180 + ang + ang1) # треугольник равнобедренный\n",
    "\n",
    "plt.plot(x, -4/3*x+9) #уравнение прямой из B\n",
    "\n",
    "\n",
    "\n",
    "plt.show()\n"
   ]
  },
  {
   "cell_type": "code",
   "execution_count": 76,
   "id": "d6b8fffe",
   "metadata": {},
   "outputs": [
    {
     "name": "stdout",
     "output_type": "stream",
     "text": [
      "Angle in degrees =  -89.99999999999993\n"
     ]
    }
   ],
   "source": [
    "def slope(x1, y1, x2, y2): # Line slope given two points:\n",
    "    return (y2-y1)/(x2-x1)\n",
    "\n",
    "def angle(s1, s2): \n",
    "    return math.degrees(math.atan((s2-s1)/(1+(s2*s1))))\n",
    "\n",
    "lineA = ((3, 5), (6, 1))\n",
    "lineB = ((6, 1.00000000000001), (2, -2))\n",
    "\n",
    "slope1 = slope(lineA[0][0], lineA[0][1], lineA[1][0], lineA[1][1])\n",
    "slope2 = slope(lineB[0][0], lineB[0][1], lineB[1][0], lineB[1][1])\n",
    "\n",
    "ang = angle(slope1, slope2)\n",
    "print('Угол = ', ang)"
   ]
  },
  {
   "cell_type": "code",
   "execution_count": 48,
   "id": "9704a004",
   "metadata": {},
   "outputs": [
    {
     "data": {
      "text/latex": [
       "$\\displaystyle - 3 x + 4 y + 14$"
      ],
      "text/plain": [
       "-3*x + 4*y + 14"
      ]
     },
     "execution_count": 48,
     "metadata": {},
     "output_type": "execute_result"
    }
   ],
   "source": [
    "p1, p2 = Point(2,-2), Point(6,1) \n",
    "L_AC = Line(p1, p2) \n",
    "L_AC.equation()\n",
    "#3/4*x-7/2\n"
   ]
  },
  {
   "cell_type": "code",
   "execution_count": 62,
   "id": "6fa6091b",
   "metadata": {},
   "outputs": [
    {
     "name": "stdout",
     "output_type": "stream",
     "text": [
      "9.0\n"
     ]
    }
   ],
   "source": [
    "k=3/4 # коэф от прямой на которую идет перпендикуляр\n",
    "k1 = -1/k #коэф отражающий 90 гр\n",
    "b = -k1*x +y #уравнение перпендикулярное прямое\n",
    "C = [6,1]\n",
    "x = 6\n",
    "y = 1\n",
    "print(b)\n",
    "\n"
   ]
  },
  {
   "cell_type": "code",
   "execution_count": 79,
   "id": "9cc18790",
   "metadata": {},
   "outputs": [
    {
     "name": "stdout",
     "output_type": "stream",
     "text": [
      "5\n"
     ]
    }
   ],
   "source": [
    "BC\n",
    "print(sqrt(3**2+(-4)**2)) # длина высоты "
   ]
  },
  {
   "cell_type": "code",
   "execution_count": 88,
   "id": "14577e8f",
   "metadata": {},
   "outputs": [
    {
     "name": "stdout",
     "output_type": "stream",
     "text": [
      "4.5 3.0\n"
     ]
    }
   ],
   "source": [
    "OB = np.array([3, 5])\n",
    "OC = np.array([6, 1])\n",
    "x1 =3\n",
    "x2 = 6\n",
    "y1 = 5\n",
    "y2 = 1\n",
    "print((x1+x2)/2,(y1+y2)/2) # середина ВС\n"
   ]
  },
  {
   "cell_type": "code",
   "execution_count": 89,
   "id": "d09f1fd3",
   "metadata": {},
   "outputs": [
    {
     "name": "stdout",
     "output_type": "stream",
     "text": [
      "5.59016994374947\n"
     ]
    }
   ],
   "source": [
    "AF\n",
    "#2.5 5\n",
    "print(sqrt(2.5**2+(5)**2)) # длина медиана"
   ]
  },
  {
   "cell_type": "code",
   "execution_count": 98,
   "id": "8d463a99",
   "metadata": {},
   "outputs": [
    {
     "name": "stdout",
     "output_type": "stream",
     "text": [
      "2.5 1.5\n"
     ]
    }
   ],
   "source": [
    "OA = np.array([2,-2])\n",
    "OB = np.array([3, 5])\n",
    "x1 =2\n",
    "x2 = 3\n",
    "y1 = -2\n",
    "y2 = 5\n",
    "print((x1+x2)/2,(y1+y2)/2) # середина AB\n"
   ]
  },
  {
   "cell_type": "code",
   "execution_count": 101,
   "id": "45db5fbf",
   "metadata": {},
   "outputs": [
    {
     "data": {
      "text/latex": [
       "$\\displaystyle - \\frac{x}{2} - \\frac{7 y}{2} + \\frac{13}{2}$"
      ],
      "text/plain": [
       "-x/2 - 7*y/2 + 13/2"
      ]
     },
     "execution_count": 101,
     "metadata": {},
     "output_type": "execute_result"
    }
   ],
   "source": [
    "p1, p2 = Point(6,1), Point(2.5,1.5) \n",
    "L_AC = Line(p1, p2) \n",
    "L_AC.equation() # треугольник равно бедренный значит биссектриса из угла будет равнятся медиане и делит гипотенузу пополам"
   ]
  }
 ],
 "metadata": {
  "kernelspec": {
   "display_name": "Python 3.9.12 ('base')",
   "language": "python",
   "name": "python3"
  },
  "language_info": {
   "codemirror_mode": {
    "name": "ipython",
    "version": 3
   },
   "file_extension": ".py",
   "mimetype": "text/x-python",
   "name": "python",
   "nbconvert_exporter": "python",
   "pygments_lexer": "ipython3",
   "version": "3.9.12"
  },
  "vscode": {
   "interpreter": {
    "hash": "70e46b0729cac20c9376499c5990a730dcab14dbca6b9e8fa368bc451b510bed"
   }
  }
 },
 "nbformat": 4,
 "nbformat_minor": 5
}
